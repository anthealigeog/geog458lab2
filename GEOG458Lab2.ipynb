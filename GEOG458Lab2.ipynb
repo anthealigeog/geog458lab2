{
  "cells": [
    {
      "cell_type": "code",
      "execution_count": 1,
      "metadata": {
        "id": "EtnaSlH-wplB"
      },
      "outputs": [],
      "source": [
        "# created on Dec 24, 2020\n",
        "# modified on April 12, 2022\n",
        "# @author:          Bo Zhao\n",
        "# @email:           zhaobo@uw.edu\n",
        "# @website:         https://hgis.uw.edu\n",
        "# @organization:    Department of Geography, University of Washington, Seattle\n",
        "# @description:     Search geo-tagged tweets within the U.S. This script is modified from https://github.com/shawn-terryah/Twitter_Geolocation"
      ]
    },
    {
      "cell_type": "code",
      "execution_count": 11,
      "metadata": {
        "id": "f-bMdKMawxnQ",
        "colab": {
          "base_uri": "https://localhost:8080/"
        },
        "outputId": "b8b64bfd-a3ca-4500-9498-900075685be7"
      },
      "outputs": [
        {
          "output_type": "stream",
          "name": "stdout",
          "text": [
            "Drive already mounted at /gdrive; to attempt to forcibly remount, call drive.mount(\"/gdrive\", force_remount=True).\n"
          ]
        }
      ],
      "source": [
        "import tweepy, json, time\n",
        "import pandas as pd\n",
        "from google.colab import files\n",
        "# Create data on to Google Drive\n",
        "from google.colab import drive\n",
        "# Mount your Drive to the Colab VM.\n",
        "drive.mount('/gdrive')"
      ]
    },
    {
      "cell_type": "code",
      "execution_count": 19,
      "metadata": {
        "id": "dEyPts-ZwplE"
      },
      "outputs": [],
      "source": [
        "class StreamListener(tweepy.StreamListener):\n",
        "    \"\"\"tweepy.StreamListener is a class provided by tweepy used to access\n",
        "    the Twitter Streaming API to collect tweets in real-time.\n",
        "    \"\"\"\n",
        "\n",
        "    def __init__(self, time_limit=60, file=\"\"):\n",
        "        \"\"\"class initialization\"\"\"\n",
        "        self.start_time = time.time()\n",
        "        self.limit = time_limit\n",
        "        self.result = []\n",
        "        self.f = file\n",
        "        super(StreamListener, self).__init__()\n",
        "\n",
        "    def on_data(self, data):\n",
        "        \"\"\"This is called when data are streamed in.\"\"\"\n",
        "        if (time.time() - self.start_time) < self.limit:\n",
        "            datajson = json.loads(data)\n",
        "            # print(datajson, \"\\n\")\n",
        "            if 'id' not in datajson.keys():\n",
        "                time.sleep(10)\n",
        "            else:\n",
        "                id = datajson['id']\n",
        "                username = datajson['user']['screen_name']\n",
        "                created_at = datajson['created_at']\n",
        "                text = datajson['text'].strip().replace(\"\\n\", \"\")\n",
        "\n",
        "                # process the geo-tags\n",
        "                if datajson['coordinates'] == None:\n",
        "                    try:\n",
        "                        bbox = datajson['place']['bounding_box']['coordinates'][0]\n",
        "                        lng = (bbox[0][0] + bbox[2][0]) / 2.0\n",
        "                        lat = (bbox[0][1] + bbox[1][1]) / 2.0\n",
        "                    except:\n",
        "                        lat = 0\n",
        "                        lng = 0\n",
        "                else:\n",
        "                    lng = datajson['coordinates']['coordinates'][0]\n",
        "                    lat = datajson['coordinates']['coordinates'][1]\n",
        "\n",
        "                if lat != 0:\n",
        "                    row = {\n",
        "                        'id': id,\n",
        "                        'username': username,\n",
        "                        'created_at': created_at,\n",
        "                        'lng': lng,\n",
        "                        'lat': lat,\n",
        "                        'text': text\n",
        "                    }\n",
        "                    print(row)\n",
        "                    self.result.append(row)\n",
        "                else:\n",
        "                    pass\n",
        "        else:\n",
        "            df = pd.DataFrame(self.result)\n",
        "            df.to_csv(self.f, index=False)\n",
        "            # download the csv to your local computer\n",
        "            files.download(self.f)\n",
        "            print(\"the csv has been downloaded to your local computer. The program has been completed successfully.\")\n",
        "            return False"
      ]
    },
    {
      "cell_type": "code",
      "execution_count": 23,
      "metadata": {
        "id": "5Xzyo_OiwplG",
        "colab": {
          "base_uri": "https://localhost:8080/",
          "height": 1000
        },
        "outputId": "97f81b85-9787-4f0a-b619-3d863e06a7cd"
      },
      "outputs": [
        {
          "output_type": "stream",
          "name": "stdout",
          "text": [
            "{'id': 1517617407820374016, 'username': 'singleserving', 'created_at': 'Fri Apr 22 21:32:40 +0000 2022', 'lng': -118.4119065, 'lat': 34.0207895, 'text': '@CordyCord_ @Barbell_nft @HAPEsocial Your goodie bag was ganked! We had to put together what we could find from our… https://t.co/VfGsc7SOrr'}\n",
            "{'id': 1517617407807811585, 'username': 'ClodzRamos', 'created_at': 'Fri Apr 22 21:32:40 +0000 2022', 'lng': -118.4119065, 'lat': 34.0207895, 'text': 'New chapter 🌴 https://t.co/3njoMSIWZh'}\n",
            "{'id': 1517617409456148480, 'username': 'Fwiz', 'created_at': 'Fri Apr 22 21:32:41 +0000 2022', 'lng': -119.30660750000001, 'lat': 37.2691755, 'text': '@Tran @SpinnaSpence @Cole_Cook They’re out their now about to snap hook their approach shot into 16. 🤝Guest bedro… https://t.co/88ba2Fbhe1'}\n",
            "{'id': 1517617411385544704, 'username': 'LauraTa36574495', 'created_at': 'Fri Apr 22 21:32:41 +0000 2022', 'lng': -119.7824645, 'lat': 36.786041999999995, 'text': '@MdBreathe @joegooding 😔😔 So sad'}\n",
            "{'id': 1517617415193907200, 'username': 'VeVeGoGetter', 'created_at': 'Fri Apr 22 21:32:42 +0000 2022', 'lng': -117.104989, 'lat': 32.810012, 'text': \"@TheTeslaBull @My_Collectables @__TheGale__ @veve_official @SiliconSecure @AndrewEllis__ Let's Gooo!! 💚💯 https://t.co/IGiyIHeJSt\"}\n",
            "{'id': 1517617420596174849, 'username': 'RodKim', 'created_at': 'Fri Apr 22 21:32:43 +0000 2022', 'lng': -118.4119065, 'lat': 34.0207895, 'text': 'this is a real status pop-up on my mac \\U0001fae0 https://t.co/DwZk4npToQ'}\n",
            "{'id': 1517617421812596742, 'username': 'lifeinrewind', 'created_at': 'Fri Apr 22 21:32:43 +0000 2022', 'lng': -122.061771, 'lat': 47.67881250000001, 'text': '@eagle_recruiter @JJaffaj @fox13seattle You made this account just to spread hate and troll? I feel sad for you. Do… https://t.co/XkOsW1kJWy'}\n",
            "{'id': 1517617423452499968, 'username': 'djannamiranda', 'created_at': 'Fri Apr 22 21:32:44 +0000 2022', 'lng': -118.44784, 'lat': 33.9752445, 'text': '@Erieleanna You should go ☺️☺️'}\n",
            "{'id': 1517617430272479232, 'username': 'kotsiebader', 'created_at': 'Fri Apr 22 21:32:46 +0000 2022', 'lng': -123.1224015, 'lat': 44.065621, 'text': 'The more observant will notice the line of peonies a la Diedrich that are about to bloom. They are right behind the… https://t.co/t9qWtyskXo'}\n",
            "{'id': 1517617433036541952, 'username': 'Not_Applicable_', 'created_at': 'Fri Apr 22 21:32:46 +0000 2022', 'lng': -118.1567105, 'lat': 33.809171500000005, 'text': 'Idk why ppl shit on perk I like him as an analyst 🤷🏿\\u200d♂️'}\n",
            "{'id': 1517617433711849472, 'username': 'CEOofmylastname', 'created_at': 'Fri Apr 22 21:32:46 +0000 2022', 'lng': -118.4119065, 'lat': 34.0207895, 'text': 'I think they say 90% of options traders loose because they want you to think it cant be done. Shit is not that hard 📈🔁'}\n",
            "{'id': 1517617438317187072, 'username': 'tacojoe_', 'created_at': 'Fri Apr 22 21:32:47 +0000 2022', 'lng': -119.30660750000001, 'lat': 37.2691755, 'text': '@__George__007 Thank you!!'}\n",
            "{'id': 1517617454557540352, 'username': 'ProspectInsider', 'created_at': 'Fri Apr 22 21:32:51 +0000 2022', 'lng': -122.2327535, 'lat': 47.565392, 'text': 'January 1990: https://t.co/yKCWFa9fa6'}\n",
            "{'id': 1517617456835039232, 'username': 'alexapellerin', 'created_at': 'Fri Apr 22 21:32:52 +0000 2022', 'lng': -118.59126950000001, 'lat': 34.39233, 'text': 'all I do is spend money &amp; question every decision i’ve ever made'}\n",
            "{'id': 1517617456608546816, 'username': 'TeresaFowell', 'created_at': 'Fri Apr 22 21:32:52 +0000 2022', 'lng': -122.5243325, 'lat': 45.6831065, 'text': '@Ro09355583Ro @greg_price11 Interesting that Obama,   like Hillary was disbarred .'}\n",
            "{'id': 1517617457694797824, 'username': 'ryan_simer', 'created_at': 'Fri Apr 22 21:32:52 +0000 2022', 'lng': -122.149768, 'lat': 47.5978565, 'text': '@jaxajueny potion^* 🧬\\U0001fa84♥️ https://t.co/jcXcHnO62D'}\n",
            "{'id': 1517617470487416833, 'username': 'Thordansmash', 'created_at': 'Fri Apr 22 21:32:55 +0000 2022', 'lng': -122.26678749999999, 'lat': 37.554668, 'text': '@that1miningguy @Belawrld @DANNYonPC But it’s Bethesda it’s more of a feature than a bug at this point'}\n",
            "{'id': 1517617470458060800, 'username': 'JoshDenny', 'created_at': 'Fri Apr 22 21:32:55 +0000 2022', 'lng': -118.325145, 'lat': 34.182159999999996, 'text': 'Countdown to black twitter making this about white privilege.'}\n",
            "{'id': 1517617475143102465, 'username': 'gingerguy1990', 'created_at': 'Fri Apr 22 21:32:56 +0000 2022', 'lng': -122.3306025, 'lat': 47.614817, 'text': '@joshjacobs_xxx If you were in Seattle I would make that happen for you!'}\n",
            "{'id': 1517617478184374272, 'username': 'UU5xBCP4xbGiLiR', 'created_at': 'Fri Apr 22 21:32:57 +0000 2022', 'lng': -118.3512175, 'lat': 33.8337145, 'text': \"@ABSCBNNews So now you're at loggerheads with the LGBT community...how can you rule a nation when you're so smart a… https://t.co/To0LKjv4EC\"}\n",
            "{'id': 1517617481933721601, 'username': 'SteamSaint', 'created_at': 'Fri Apr 22 21:32:58 +0000 2022', 'lng': -122.096397, 'lat': 47.9921425, 'text': '@MarkBrooksArt Perfection.No notes.'}\n",
            "{'id': 1517617485100380160, 'username': 'Rahmatullah9', 'created_at': 'Fri Apr 22 21:32:59 +0000 2022', 'lng': -122.455344, 'lat': 47.242960499999995, 'text': 'Went to a Kroger to get my snacks for dashing and can you guess the song that was playing on the PA system from thi… https://t.co/rSs9D5gH8T'}\n",
            "{'id': 1517617485532459008, 'username': 'jonathankoren', 'created_at': 'Fri Apr 22 21:32:59 +0000 2022', 'lng': -121.8737305, 'lat': 37.331159, 'text': '@dovatgpfnhos @JohnDiesattheEn I took it to mean he liquidated all his stock'}\n",
            "{'id': 1517617487088660480, 'username': 'everyEarthquake', 'created_at': 'Fri Apr 22 21:32:59 +0000 2022', 'lng': -119.36033333, 'lat': 46.062, 'text': 'USGS reports a M1.52 explosion, 16 km N of Umatilla, Oregon on 4/22/22 @ 17:42:31 UTC https://t.co/Wc8KrlIZUd #explosion'}\n",
            "{'id': 1517617487998717952, 'username': 'MsYouDoYou', 'created_at': 'Fri Apr 22 21:32:59 +0000 2022', 'lng': -123.13324349999999, 'lat': 49.288257, 'text': 'I stg it’s been 30-minutes 😩'}\n",
            "{'id': 1517617488745299968, 'username': 'litlove71', 'created_at': 'Fri Apr 22 21:32:59 +0000 2022', 'lng': -118.9457615, 'lat': 34.821702, 'text': '@GilliamReport @GrudgingSignup @AdamBojak What didn’t happen?'}\n",
            "{'id': 1517617494961233920, 'username': 'craftcratical', 'created_at': 'Fri Apr 22 21:33:01 +0000 2022', 'lng': -122.836535, 'lat': 45.555355000000006, 'text': 'I dove down a #TinyTinasWonderlands hole there a bit but cuz of the update my computer lags out hella hard &amp; all th… https://t.co/V12loQgk5R'}\n",
            "{'id': 1517617498211856384, 'username': 'pdxpolicelog', 'created_at': 'Fri Apr 22 21:33:02 +0000 2022', 'lng': -122.652145, 'lat': 45.500606, 'text': 'ACCIDENT - UNKNOWN INJURY at SE POWELL BLVD / SE 13TH AVE, PORT [Portland Police #PP22000106677] 14:21 #pdx911'}\n",
            "{'id': 1517617499105157120, 'username': 'pdxpolicelog', 'created_at': 'Fri Apr 22 21:33:02 +0000 2022', 'lng': -122.503628, 'lat': 45.522522, 'text': 'DISTURBANCE - COLD at 15500 E BURNSIDE ST, PORT [Portland Police #PP22000106660] 14:09 #pdx911'}\n",
            "{'id': 1517617508055863296, 'username': 'LiveEncounter1', 'created_at': 'Fri Apr 22 21:33:04 +0000 2022', 'lng': -118.068689, 'lat': 33.8669655, 'text': '@_sewsy @chikimans @goldprentis Lmfaoo'}\n",
            "{'id': 1517617508517224449, 'username': 'maxomai', 'created_at': 'Fri Apr 22 21:33:04 +0000 2022', 'lng': -122.630908, 'lat': 45.536402, 'text': \"I, uh, don't remember.\"}\n",
            "{'id': 1517617509112811521, 'username': 'tmj_SAC_adm', 'created_at': 'Fri Apr 22 21:33:04 +0000 2022', 'lng': -121.3598812, 'lat': 39.111504, 'text': 'Join the Booz Allen team! See our latest JCC Acct Group job openings, including \"Security Engineer, Mid\", via the l… https://t.co/gF9bzd1HDn'}\n",
            "{'id': 1517617510450745345, 'username': 'DaleDaleyo', 'created_at': 'Fri Apr 22 21:33:05 +0000 2022', 'lng': -118.13619349999999, 'lat': 34.1938085, 'text': 'Another hit 👌🏽👌🏽✨'}\n",
            "{'id': 1517617518730350592, 'username': '310Jacki', 'created_at': 'Fri Apr 22 21:33:07 +0000 2022', 'lng': -118.40899, 'lat': 34.0060125, 'text': '@Norwegian_Lars Does she have a disability?'}\n",
            "{'id': 1517617525046976512, 'username': 'CWFHMarquez', 'created_at': 'Fri Apr 22 21:33:08 +0000 2022', 'lng': -118.4119065, 'lat': 34.0207895, 'text': 'Starting tomorrow the all new @unitedwrestling #ChampionshipWrestling presented by @CarShield premieres with specia… https://t.co/MBKTxSxvZP'}\n",
            "{'id': 1517617528649834497, 'username': 'LauraTa36574495', 'created_at': 'Fri Apr 22 21:33:09 +0000 2022', 'lng': -119.7824645, 'lat': 36.786041999999995, 'text': '@theblaze @CR About time.'}\n",
            "{'id': 1517617528490520576, 'username': 'betsy_braids', 'created_at': 'Fri Apr 22 21:33:09 +0000 2022', 'lng': -122.4359785, 'lat': 37.7706565, 'text': 'Rest In Peace ✨💐 https://t.co/qjkQ4lktD4'}\n",
            "{'id': 1517617529891426305, 'username': 'toni_thwd1', 'created_at': 'Fri Apr 22 21:33:09 +0000 2022', 'lng': -122.16076749999999, 'lat': 47.4506245, 'text': '@Corinacakess It would be wonderful!!'}\n",
            "{'id': 1517617532840030208, 'username': 'MichaelEnvy', 'created_at': 'Fri Apr 22 21:33:10 +0000 2022', 'lng': -118.4119065, 'lat': 34.0207895, 'text': '@liamo35 Great choice'}\n",
            "{'id': 1517617538661642241, 'username': 'fkfidd', 'created_at': 'Fri Apr 22 21:33:11 +0000 2022', 'lng': -118.4119065, 'lat': 34.0207895, 'text': '@TheTNHoller @sloaneellen She got really squirrelly when asked if she believed the things she’s been saying for the last year.'}\n",
            "{'id': 1517617538854580224, 'username': 'galofer504', 'created_at': 'Fri Apr 22 21:33:11 +0000 2022', 'lng': -118.308892, 'lat': 34.159688, 'text': 'I found this in burbank no ID what should I do WHT it ? https://t.co/miNYk6jwV5'}\n",
            "{'id': 1517617539500572672, 'username': 'AbelTek206', 'created_at': 'Fri Apr 22 21:33:12 +0000 2022', 'lng': -122.2604075, 'lat': 47.804248, 'text': '*high and mighty'}\n",
            "{'id': 1517617547901685760, 'username': 'bloodybluntspod', 'created_at': 'Fri Apr 22 21:33:14 +0000 2022', 'lng': -118.4119065, 'lat': 34.0207895, 'text': 'Happy #EarthDay 🌷 perfect time to go back and listen to our episode on a wickedly gnarly, THE RUINS! Had a blast on… https://t.co/Kn46ebVXAq'}\n",
            "{'id': 1517617554650398720, 'username': 'deztopia', 'created_at': 'Fri Apr 22 21:33:15 +0000 2022', 'lng': -117.0226945, 'lat': 38.502147, 'text': 'if I don’t have chapstick in my pocket, my entire life falls apart'}\n",
            "{'id': 1517617566671200256, 'username': 'JohnA_USMCvet', 'created_at': 'Fri Apr 22 21:33:18 +0000 2022', 'lng': -120.47181, 'lat': 37.316222499999995, 'text': '@BubbaJoeJimBob1 @notdecraw @F16Vet @LeftyNavySeal @wildchild1162 @jdemoor I have been fortunate in this regard. So far.🤭'}\n",
            "{'id': 1517617567719837696, 'username': 'Fwiz', 'created_at': 'Fri Apr 22 21:33:18 +0000 2022', 'lng': -119.30660750000001, 'lat': 37.2691755, 'text': '@Tran @SpinnaSpence @Cole_Cook I see them golfing out there now about to snap hook their approach shot into 16. 🤝… https://t.co/QIJjTkmz9y'}\n",
            "{'id': 1517617570152517632, 'username': 'maxomai', 'created_at': 'Fri Apr 22 21:33:19 +0000 2022', 'lng': -122.630908, 'lat': 45.536402, 'text': 'I wish.'}\n",
            "{'id': 1517617570781667333, 'username': 'quis__custodiet', 'created_at': 'Fri Apr 22 21:33:19 +0000 2022', 'lng': -118.28318, 'lat': 34.01505, 'text': '2133ZN230LA LAPD AIR SUPPORT DIVISIONSquawk: 0214N34.0151 W118.2832Altitude: 825ftCourse: 18ºGroundspeed: 102… https://t.co/3eIDFw1yhK'}\n",
            "{'id': 1517617574434918400, 'username': 'archaic_dream', 'created_at': 'Fri Apr 22 21:33:20 +0000 2022', 'lng': -117.7823605, 'lat': 33.689732, 'text': '@Sergioteuc1 @newschannelnine @RepMTG She should rot in jail. Can’t keep a criminal in office.'}\n",
            "{'id': 1517617576498524160, 'username': 'ProspectInsider', 'created_at': 'Fri Apr 22 21:33:20 +0000 2022', 'lng': -122.2327535, 'lat': 47.565392, 'text': 'December 1989 https://t.co/QEnAoEKCLN'}\n",
            "{'id': 1517617580277522433, 'username': 'chikisTypeR', 'created_at': 'Fri Apr 22 21:33:21 +0000 2022', 'lng': -117.2397795, 'lat': 33.184920500000004, 'text': 'I should be in mammoth \\U0001f9a3 right now. SMH'}\n",
            "{'id': 1517617581577834497, 'username': 'PoopScoopSF', 'created_at': 'Fri Apr 22 21:33:22 +0000 2022', 'lng': -122.417265, 'lat': 37.759147, 'text': '\"Trash, brown stains on paper towels. Please clear.\" (Mission, D9) https://t.co/LyCxRRJGmk https://t.co/1elhkf7a4Q'}\n",
            "{'id': 1517617583834288128, 'username': 'EatYoMFheartOUT', 'created_at': 'Fri Apr 22 21:33:22 +0000 2022', 'lng': -118.1567105, 'lat': 33.809171500000005, 'text': '“Aye bitch, try dis” forever loves rent free in my head'}\n",
            "{'id': 1517617589672833024, 'username': 'jhamby', 'created_at': 'Fri Apr 22 21:33:24 +0000 2022', 'lng': -118.4119065, 'lat': 34.0207895, 'text': 'But from what I can gather, the safer and cleaner way to modularize and extend your legacy code is by creating docu… https://t.co/Y3IjOoYfIv'}\n",
            "{'id': 1517617589752451072, 'username': 'joufflouis', 'created_at': 'Fri Apr 22 21:33:24 +0000 2022', 'lng': -120.86247850000001, 'lat': 37.499596, 'text': '@BEVERYAFRAIDD @tockynha baby this is keke palmer'}\n",
            "{'id': 1517617591367323648, 'username': 'tmj_sac_transp', 'created_at': 'Fri Apr 22 21:33:24 +0000 2022', 'lng': -121.2907796, 'lat': 37.9577016, 'text': 'KeHE Distributors is hiring in #Stockton, CA! Read about our latest #Transportation job opening via the link in our… https://t.co/I8UBT5DIZu'}\n",
            "{'id': 1517617591883161600, 'username': 'CCSFMBB', 'created_at': 'Fri Apr 22 21:33:24 +0000 2022', 'lng': -122.4359785, 'lat': 37.7706565, 'text': 'Former Ram @kyre3brown in the transfer portal has received an offer from @UNHMBB. @VerbalCommits @sgnlthelgthoops https://t.co/SSO1gl4CMj'}\n",
            "{'id': 1517617600871641088, 'username': 'openbook48', 'created_at': 'Fri Apr 22 21:33:26 +0000 2022', 'lng': -121.469664, 'lat': 38.561722, 'text': \"Wasn't Ted Cruz part of the Green Bay Sweep ?\"}\n",
            "{'id': 1517617600477351937, 'username': 'AsmRichardBloom', 'created_at': 'Fri Apr 22 21:33:26 +0000 2022', 'lng': -118.75462999999999, 'lat': 34.1470785, 'text': 'A very happy #EarthDay, indeed! Today, we finally broke ground for the highly anticipated Wallis Annenberg Wildlife… https://t.co/W8cUeKv6jC'}\n",
            "{'id': 1517617615459348480, 'username': 'KayhanLife', 'created_at': 'Fri Apr 22 21:33:30 +0000 2022', 'lng': -118.4119065, 'lat': 34.0207895, 'text': '#TheWeekinReview ⚡️Flash Briefing - April 22, 2022by #KayhanLife on #SoundCloud #Spotify &amp; #YouTube… https://t.co/6oLaUfoO8M'}\n",
            "{'id': 1517617617518817280, 'username': 'BrooklynMadison', 'created_at': 'Fri Apr 22 21:33:30 +0000 2022', 'lng': -119.30660750000001, 'lat': 37.2691755, 'text': 'That’s foul 😷💩'}\n",
            "{'id': 1517617618760339457, 'username': 'PacificSeaDevil', 'created_at': 'Fri Apr 22 21:33:30 +0000 2022', 'lng': -123.370838, 'lat': 48.496225499999994, 'text': 'Well done Brendon!'}\n",
            "{'id': 1517617622870749184, 'username': 'wildcatgirl82', 'created_at': 'Fri Apr 22 21:33:31 +0000 2022', 'lng': -122.840863, 'lat': 45.541063, 'text': '@WillQuintanaNW Are you booking any flights through American or Delta? I have some American points I need to do som… https://t.co/0fpuFlZLy8'}\n",
            "{'id': 1517617625525743616, 'username': 'MaggyTheBrave', 'created_at': 'Fri Apr 22 21:33:32 +0000 2022', 'lng': -117.104989, 'lat': 32.810012, 'text': 'Oh no, this is a loss. :('}\n",
            "{'id': 1517617625689251840, 'username': 'karenhelenz11', 'created_at': 'Fri Apr 22 21:33:32 +0000 2022', 'lng': -119.03434899999999, 'lat': 34.225327500000006, 'text': 'Been countering the \"pro-life\" people with that argument for years because it makes me angry to realize that those… https://t.co/HAoAwQnrrV'}\n",
            "{'id': 1517617629359394816, 'username': 'skrillascrooge1', 'created_at': 'Fri Apr 22 21:33:33 +0000 2022', 'lng': -118.2445, 'lat': 34.0564, 'text': 'Just posted a video @ Los Angeles, California https://t.co/4gcgTvr4OE'}\n",
            "{'id': 1517617632882556928, 'username': '_Meyonic', 'created_at': 'Fri Apr 22 21:33:34 +0000 2022', 'lng': -117.434547, 'lat': 47.667438, 'text': '@USARugbyfan18 @GreetingsADM @gasbarnut12 @TxnG8r @aggierugger2010 @RealRickCollins @BuckWolf7 @MMorchoe… https://t.co/ZoA81xAJwh'}\n",
            "{'id': 1517617633394184192, 'username': 'Michalangelo999', 'created_at': 'Fri Apr 22 21:33:34 +0000 2022', 'lng': -118.4119065, 'lat': 34.0207895, 'text': '@MsAriesMoon We bite size so delish 🧛\\u200d♀️'}\n",
            "{'id': 1517617639916376064, 'username': 'S_Sherelle', 'created_at': 'Fri Apr 22 21:33:35 +0000 2022', 'lng': -121.725359, 'lat': 36.201928, 'text': 'Happy #EarthDay https://t.co/WKhtNgbKq2'}\n",
            "{'id': 1517617647290003456, 'username': 'MaileZ', 'created_at': 'Fri Apr 22 21:33:37 +0000 2022', 'lng': -122.04254449999999, 'lat': 47.542814, 'text': '@SeattleKraken @RykerEvans_ Will he wear the Kraken jersey this season?  Welcome to the deep!'}\n"
          ]
        },
        {
          "output_type": "display_data",
          "data": {
            "text/plain": [
              "<IPython.core.display.Javascript object>"
            ],
            "application/javascript": [
              "\n",
              "    async function download(id, filename, size) {\n",
              "      if (!google.colab.kernel.accessAllowed) {\n",
              "        return;\n",
              "      }\n",
              "      const div = document.createElement('div');\n",
              "      const label = document.createElement('label');\n",
              "      label.textContent = `Downloading \"${filename}\": `;\n",
              "      div.appendChild(label);\n",
              "      const progress = document.createElement('progress');\n",
              "      progress.max = size;\n",
              "      div.appendChild(progress);\n",
              "      document.body.appendChild(div);\n",
              "\n",
              "      const buffers = [];\n",
              "      let downloaded = 0;\n",
              "\n",
              "      const channel = await google.colab.kernel.comms.open(id);\n",
              "      // Send a message to notify the kernel that we're ready.\n",
              "      channel.send({})\n",
              "\n",
              "      for await (const message of channel.messages) {\n",
              "        // Send a message to notify the kernel that we're ready.\n",
              "        channel.send({})\n",
              "        if (message.buffers) {\n",
              "          for (const buffer of message.buffers) {\n",
              "            buffers.push(buffer);\n",
              "            downloaded += buffer.byteLength;\n",
              "            progress.value = downloaded;\n",
              "          }\n",
              "        }\n",
              "      }\n",
              "      const blob = new Blob(buffers, {type: 'application/binary'});\n",
              "      const a = document.createElement('a');\n",
              "      a.href = window.URL.createObjectURL(blob);\n",
              "      a.download = filename;\n",
              "      div.appendChild(a);\n",
              "      a.click();\n",
              "      div.remove();\n",
              "    }\n",
              "  "
            ]
          },
          "metadata": {}
        },
        {
          "output_type": "display_data",
          "data": {
            "text/plain": [
              "<IPython.core.display.Javascript object>"
            ],
            "application/javascript": [
              "download(\"download_7ec3ba5e-0651-46ee-8394-4fa18912955d\", \"geotweets2.csv\", 12194)"
            ]
          },
          "metadata": {}
        },
        {
          "output_type": "stream",
          "name": "stdout",
          "text": [
            "the csv has been downloaded to your local computer. The program has been completed successfully.\n"
          ]
        }
      ],
      "source": [
        "if __name__ == \"__main__\":\n",
        "    # These are provided to you through the Twitter API after you create a account\n",
        "    # register a Twitter App to get the keys and access tokens.\n",
        "    output_file = '/gdrive/My Drive/geotweets2.csv'\n",
        "\n",
        "    # Apply for your own Twitter API keys at https://developer.twitter.com/en/apply-for-access\n",
        "    consumer_key = \"FsLTwZOahu072Naat2M4gbX9h\"\n",
        "    consumer_secret = \"QM11Xwc58xqSD8bnjOBiF8cv6oWZwYZmvfvgQMFxoyxolj32Wk\"\n",
        "    access_token = \"1517590492761845760-1sQQPpLcOCDTe7II3GsUUhY6JingMD\"\n",
        "    access_token_secret = \"e3rfHk90QafWbmIt0TgtX7CGWYHZDENhykAolxgN7Q8X9\"\n",
        "\n",
        "    myauth = tweepy.OAuthHandler(consumer_key, consumer_secret)\n",
        "    myauth.set_access_token(access_token, access_token_secret)\n",
        "\n",
        "    # LOCATIONS are the longitude, latitude coordinate corners for a box that restricts the\n",
        "    # geographic area from which you will stream tweets. The first two define the southwest\n",
        "    # corner of the box and the second two define the northeast corner of the box.\n",
        "    # LOCATIONS = [-124.7771694, 24.520833, -66.947028, 49.384475,  # Contiguous US\n",
        "    #              -164.639405, 58.806859, -144.152365, 71.76871,  # Alaska\n",
        "    #              -160.161542, 18.776344, -154.641396, 22.878623]  # Hawaii\n",
        "    LOCATIONS = [-124.300047, 32.528759, -117.021459, 49.017836]  # West Coast\n",
        "\n",
        "    stream_listener = StreamListener(time_limit=60, file=output_file)\n",
        "    stream = tweepy.Stream(auth=myauth, listener=stream_listener)\n",
        "    stream.filter(track=[\"Amber Heard\"], locations=LOCATIONS, languages=['en'], encoding=\"utf-8\")"
      ]
    }
  ],
  "metadata": {
    "colab": {
      "collapsed_sections": [],
      "name": "GEOG458Lab2.ipynb",
      "provenance": []
    },
    "kernelspec": {
      "display_name": "Python 3",
      "language": "python",
      "name": "python3"
    },
    "language_info": {
      "codemirror_mode": {
        "name": "ipython",
        "version": 3
      },
      "file_extension": ".py",
      "mimetype": "text/x-python",
      "name": "python",
      "nbconvert_exporter": "python",
      "pygments_lexer": "ipython3",
      "version": "3.7.4"
    }
  },
  "nbformat": 4,
  "nbformat_minor": 0
}